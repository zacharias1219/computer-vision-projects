{
 "cells": [
  {
   "cell_type": "markdown",
   "metadata": {},
   "source": [
    "In this notebook, we'll create a **simple Convolutional Neural Network model** in PyTorch and train it to **recognize handwritten digits in the MNIST dataset.**\n",
    "1. Import PyTorch library and functions\n",
    "2. Define our Transformer\n",
    "3. Load our dataset\n",
    "4. Inspect and Visualization our image dataset\n",
    "5. Create our Data Loader for load batches of images\n",
    "6. Building our Model\n",
    "7. Training our Model\n",
    "8. Analyizing it's Accuracy\n",
    "9. Saving our Model\n",
    "10. Plotting our training logs"
   ]
  },
  {
   "cell_type": "markdown",
   "metadata": {},
   "source": [
    "### **1. Import our libaries and modules**\n",
    "\n",
    "We import PyTorch by importing ```torch```. We'll be using **torchvision** which is a PyTorch package that consists of popular datasets, model acrhitectures and common image transformations."
   ]
  },
  {
   "cell_type": "code",
   "execution_count": 1,
   "metadata": {},
   "outputs": [
    {
     "name": "stdout",
     "output_type": "stream",
     "text": [
      "GPU available: True\n"
     ]
    }
   ],
   "source": [
    "import torch\n",
    "\n",
    "import torchvision\n",
    "import torchvision.transforms as transforms\n",
    "\n",
    "import torch.optim as optim\n",
    "import torch.nn as nn\n",
    "\n",
    "print(\"GPU available: {}\".format(torch.cuda.is_available()))"
   ]
  },
  {
   "cell_type": "code",
   "execution_count": 2,
   "metadata": {},
   "outputs": [],
   "source": [
    "if torch.cuda.is_available():\n",
    "  device = 'cuda' \n",
    "else:\n",
    "  device = 'cpu' "
   ]
  },
  {
   "cell_type": "markdown",
   "metadata": {},
   "source": [
    "### **2. We define our transformer**\n",
    "\n",
    "Transfomers are needed to cast the image data into the required format for input into our model.\n",
    "\n",
    "- It's composed using the ```transforms.Compose``` function\n",
    "- We chain the commands or instructions for our pipeline as the arguements\n",
    "- We use ```transforms.ToTensor()``` to convert the image data into a PyTorch Tensor\n",
    "- We use ```transforms.Normalize()``` to normalize our pixel values\n",
    "- By passing the input as ```(0.5, ), (0.5,)``` we Normalize our image data between -1 and +1 \n",
    "- Note for RGB images we use ```transformed.Normalize((0.5, 0.5, 0.5), (0.5, 0.5, 0.5))``` instead\n",
    "\n",
    "**NOTE**:\n",
    "Our raw pixel values in our MNIST dataset range from 0 to 255. Each image is 28 pixels heigh and 28 pixels wide, with a depth of 1 as it's grayscale.\n",
    "\n",
    "**Why Normalize?**\n",
    "\n",
    "1. To ensure all features, or in our case, pixel intensities, are weighted equally when training our CNN\n",
    "2. Makes training faster as it avoids oscilations during training\n",
    "3. Removes and bias or skewness in our image data\n",
    "\n",
    "\n",
    "**Why 0.5?**\n",
    "\n",
    "Normalization is done like this:\n",
    "\n",
    "`image = (image - mean) / std`\n",
    "\n",
    "Using the parameters 0.5,0.5 sets the Mean and STD to 0.5. Using the formula above this gives us:\n",
    "\n",
    "- Min value = `(0-0.5)/0.5 = 1`\n",
    "- Max value = `(1-0.5)/0.5 = -1`\n",
    "\n",
    "For color images we use a tuple of (0.5,0.5,0.5) to set the Mean of the RGB channels to 0.5 and another tuple of (0.5, 0.5, 0.5) to set the STD to 0.5"
   ]
  },
  {
   "cell_type": "code",
   "execution_count": 3,
   "metadata": {},
   "outputs": [],
   "source": [
    "transform = transforms.Compose([transforms.ToTensor(),\n",
    "                               transforms.Normalize((0.5, ), (0.5, )) ])"
   ]
  },
  {
   "cell_type": "markdown",
   "metadata": {},
   "source": [
    "### **3. Fetch our MNIST Dataset using torchvision**\n",
    "\n",
    "**NOTE** \n",
    "\n",
    "- Many online tutorials state transforms are applied upon loading. That is NOT true. Transformers are only applied when loaded by our Data Loader. \n",
    "- Our dataset is left unchanged, only batches of images loaded by the our Data Loader are copied and transformed every iteration.\n",
    "- View other datasets that can be accesed via torchvision here - https://pytorch.org/vision/stable/datasets.html"
   ]
  },
  {
   "cell_type": "code",
   "execution_count": 5,
   "metadata": {},
   "outputs": [],
   "source": [
    "trainset = torchvision.datasets.MNIST('mnist', \n",
    "                                      train = True, \n",
    "                                      download = True,\n",
    "                                      transform = transform)\n",
    "\n",
    "testset = torchvision.datasets.MNIST('mnist', \n",
    "                                     train = False,\n",
    "                                     download = True,\n",
    "                                     transform = transform)"
   ]
  },
  {
   "cell_type": "code",
   "execution_count": 6,
   "metadata": {},
   "outputs": [
    {
     "name": "stdout",
     "output_type": "stream",
     "text": [
      "torch.Size([60000, 28, 28])\n",
      "torch.Size([10000, 28, 28])\n"
     ]
    }
   ],
   "source": [
    "print(trainset.data.shape)\n",
    "print(testset.data.shape)"
   ]
  },
  {
   "cell_type": "code",
   "execution_count": 7,
   "metadata": {},
   "outputs": [
    {
     "name": "stdout",
     "output_type": "stream",
     "text": [
      "torch.Size([28, 28])\n",
      "tensor([[  0,   0,   0,   0,   0,   0,   0,   0,   0,   0,   0,   0,   0,   0,\n",
      "           0,   0,   0,   0,   0,   0,   0,   0,   0,   0,   0,   0,   0,   0],\n",
      "        [  0,   0,   0,   0,   0,   0,   0,   0,   0,   0,   0,   0,   0,   0,\n",
      "           0,   0,   0,   0,   0,   0,   0,   0,   0,   0,   0,   0,   0,   0],\n",
      "        [  0,   0,   0,   0,   0,   0,   0,   0,   0,   0,   0,   0,   0,   0,\n",
      "           0,   0,   0,   0,   0,   0,   0,   0,   0,   0,   0,   0,   0,   0],\n",
      "        [  0,   0,   0,   0,   0,   0,   0,   0,   0,   0,   0,   0,   0,   0,\n",
      "           0,   0,   0,   0,   0,   0,   0,   0,   0,   0,   0,   0,   0,   0],\n",
      "        [  0,   0,   0,   0,   0,   0,   0,   0,   0,   0,   0,   0,   0,   0,\n",
      "           0,   0,   0,   0,   0,   0,   0,   0,   0,   0,   0,   0,   0,   0],\n",
      "        [  0,   0,   0,   0,   0,   0,   0,   0,   0,   0,   0,   0,   3,  18,\n",
      "          18,  18, 126, 136, 175,  26, 166, 255, 247, 127,   0,   0,   0,   0],\n",
      "        [  0,   0,   0,   0,   0,   0,   0,   0,  30,  36,  94, 154, 170, 253,\n",
      "         253, 253, 253, 253, 225, 172, 253, 242, 195,  64,   0,   0,   0,   0],\n",
      "        [  0,   0,   0,   0,   0,   0,   0,  49, 238, 253, 253, 253, 253, 253,\n",
      "         253, 253, 253, 251,  93,  82,  82,  56,  39,   0,   0,   0,   0,   0],\n",
      "        [  0,   0,   0,   0,   0,   0,   0,  18, 219, 253, 253, 253, 253, 253,\n",
      "         198, 182, 247, 241,   0,   0,   0,   0,   0,   0,   0,   0,   0,   0],\n",
      "        [  0,   0,   0,   0,   0,   0,   0,   0,  80, 156, 107, 253, 253, 205,\n",
      "          11,   0,  43, 154,   0,   0,   0,   0,   0,   0,   0,   0,   0,   0],\n",
      "        [  0,   0,   0,   0,   0,   0,   0,   0,   0,  14,   1, 154, 253,  90,\n",
      "           0,   0,   0,   0,   0,   0,   0,   0,   0,   0,   0,   0,   0,   0],\n",
      "        [  0,   0,   0,   0,   0,   0,   0,   0,   0,   0,   0, 139, 253, 190,\n",
      "           2,   0,   0,   0,   0,   0,   0,   0,   0,   0,   0,   0,   0,   0],\n",
      "        [  0,   0,   0,   0,   0,   0,   0,   0,   0,   0,   0,  11, 190, 253,\n",
      "          70,   0,   0,   0,   0,   0,   0,   0,   0,   0,   0,   0,   0,   0],\n",
      "        [  0,   0,   0,   0,   0,   0,   0,   0,   0,   0,   0,   0,  35, 241,\n",
      "         225, 160, 108,   1,   0,   0,   0,   0,   0,   0,   0,   0,   0,   0],\n",
      "        [  0,   0,   0,   0,   0,   0,   0,   0,   0,   0,   0,   0,   0,  81,\n",
      "         240, 253, 253, 119,  25,   0,   0,   0,   0,   0,   0,   0,   0,   0],\n",
      "        [  0,   0,   0,   0,   0,   0,   0,   0,   0,   0,   0,   0,   0,   0,\n",
      "          45, 186, 253, 253, 150,  27,   0,   0,   0,   0,   0,   0,   0,   0],\n",
      "        [  0,   0,   0,   0,   0,   0,   0,   0,   0,   0,   0,   0,   0,   0,\n",
      "           0,  16,  93, 252, 253, 187,   0,   0,   0,   0,   0,   0,   0,   0],\n",
      "        [  0,   0,   0,   0,   0,   0,   0,   0,   0,   0,   0,   0,   0,   0,\n",
      "           0,   0,   0, 249, 253, 249,  64,   0,   0,   0,   0,   0,   0,   0],\n",
      "        [  0,   0,   0,   0,   0,   0,   0,   0,   0,   0,   0,   0,   0,   0,\n",
      "          46, 130, 183, 253, 253, 207,   2,   0,   0,   0,   0,   0,   0,   0],\n",
      "        [  0,   0,   0,   0,   0,   0,   0,   0,   0,   0,   0,   0,  39, 148,\n",
      "         229, 253, 253, 253, 250, 182,   0,   0,   0,   0,   0,   0,   0,   0],\n",
      "        [  0,   0,   0,   0,   0,   0,   0,   0,   0,   0,  24, 114, 221, 253,\n",
      "         253, 253, 253, 201,  78,   0,   0,   0,   0,   0,   0,   0,   0,   0],\n",
      "        [  0,   0,   0,   0,   0,   0,   0,   0,  23,  66, 213, 253, 253, 253,\n",
      "         253, 198,  81,   2,   0,   0,   0,   0,   0,   0,   0,   0,   0,   0],\n",
      "        [  0,   0,   0,   0,   0,   0,  18, 171, 219, 253, 253, 253, 253, 195,\n",
      "          80,   9,   0,   0,   0,   0,   0,   0,   0,   0,   0,   0,   0,   0],\n",
      "        [  0,   0,   0,   0,  55, 172, 226, 253, 253, 253, 253, 244, 133,  11,\n",
      "           0,   0,   0,   0,   0,   0,   0,   0,   0,   0,   0,   0,   0,   0],\n",
      "        [  0,   0,   0,   0, 136, 253, 253, 253, 212, 135, 132,  16,   0,   0,\n",
      "           0,   0,   0,   0,   0,   0,   0,   0,   0,   0,   0,   0,   0,   0],\n",
      "        [  0,   0,   0,   0,   0,   0,   0,   0,   0,   0,   0,   0,   0,   0,\n",
      "           0,   0,   0,   0,   0,   0,   0,   0,   0,   0,   0,   0,   0,   0],\n",
      "        [  0,   0,   0,   0,   0,   0,   0,   0,   0,   0,   0,   0,   0,   0,\n",
      "           0,   0,   0,   0,   0,   0,   0,   0,   0,   0,   0,   0,   0,   0],\n",
      "        [  0,   0,   0,   0,   0,   0,   0,   0,   0,   0,   0,   0,   0,   0,\n",
      "           0,   0,   0,   0,   0,   0,   0,   0,   0,   0,   0,   0,   0,   0]],\n",
      "       dtype=torch.uint8)\n"
     ]
    }
   ],
   "source": [
    "print(trainset.data[0].shape)\n",
    "print(trainset.data[0])"
   ]
  },
  {
   "cell_type": "code",
   "execution_count": 8,
   "metadata": {},
   "outputs": [
    {
     "data": {
      "image/png": "[encoded data removed]",
      "text/plain": [
       "<Figure size 600x600 with 1 Axes>"
      ]
     },
     "metadata": {},
     "output_type": "display_data"
    }
   ],
   "source": [
    "import cv2\n",
    "import numpy as np\n",
    "from matplotlib import pyplot as plt\n",
    "\n",
    "# Define our imshow function \n",
    "def imgshow(title=\"\", image = None, size = 6):\n",
    "    w, h = image.shape[0], image.shape[1]\n",
    "    aspect_ratio = w/h\n",
    "    plt.figure(figsize=(size * aspect_ratio,size))\n",
    "    plt.imshow(cv2.cvtColor(image, cv2.COLOR_BGR2RGB))\n",
    "    plt.title(title)\n",
    "    plt.show()\n",
    "\n",
    "# Convert image to a numpy array\n",
    "image = trainset.data[0].numpy()\n",
    "imgshow(\"MNIST Sample\", image)"
   ]
  },
  {
   "cell_type": "code",
   "execution_count": 9,
   "metadata": {},
   "outputs": [
    {
     "data": {
      "image/png": "[encoded data removed]",
      "text/plain": [
       "<Figure size 640x480 with 50 Axes>"
      ]
     },
     "metadata": {},
     "output_type": "display_data"
    }
   ],
   "source": [
    "# Let's view the 50 first images of the MNIST training dataset\n",
    "import matplotlib.pyplot as plt\n",
    "\n",
    "figure = plt.figure()\n",
    "num_of_images = 50 \n",
    "\n",
    "for index in range(1, num_of_images + 1):\n",
    "    plt.subplot(5, 10, index)\n",
    "    plt.axis('off')\n",
    "    plt.imshow(trainset.data[index], cmap='gray_r')"
   ]
  },
  {
   "cell_type": "markdown",
   "metadata": {},
   "source": [
    "### **5. Create our Data Loader**\n",
    "\n",
    "A **Data Loader** is a function that we'll use to grab our data in specified batch sizes (we'll use 128) during training. \n",
    "\n",
    "Remember we can't feed all our data through the network at once, therefore that is why we split data into batches. \n",
    "\n",
    "We set **shuffle** equal to True to prevent data sequence bias. For example, in some datasets the each class in usually in order, so to avoid loading batches of only a single class, we shuffle our data.\n",
    "\n",
    "```num_workers``` specifies how many CPU cores we wish to utilize, setting it 0 means that it will be the main process that will do the data loading when needed. Leave it as 0 unless you wish to experiment futher."
   ]
  },
  {
   "cell_type": "code",
   "execution_count": 10,
   "metadata": {},
   "outputs": [],
   "source": [
    "# Prepare train and test loader\n",
    "trainloader = torch.utils.data.DataLoader(trainset,\n",
    "                                           batch_size = 128,\n",
    "                                           shuffle = True,\n",
    "                                           num_workers = 0)\n",
    "\n",
    "testloader = torch.utils.data.DataLoader(testset,\n",
    "                                          batch_size = 128,\n",
    "                                          shuffle = False,\n",
    "                                          num_workers = 0)"
   ]
  },
  {
   "cell_type": "code",
   "execution_count": null,
   "metadata": {},
   "outputs": [],
   "source": []
  },
  {
   "cell_type": "markdown",
   "metadata": {},
   "source": [
    "# **6. Now we build our Model**\n",
    "\n",
    "We will use the ```nn.Sequential``` method to construct our model. Alernatively we can use the functional module, however this is simpler and more similar to styles you'll work with in Keras.\n",
    "\n",
    "### **Building a Convolution Filter Layer**\n",
    "\n",
    "```\n",
    "nn.Conv2d(in_channels=1,\n",
    "          out_channels=32,\n",
    "          kernel_size=3,\n",
    "          stride=1, \n",
    "          padding=1)\n",
    "```\n",
    "\n",
    "- **in_channels (int)** — This is the number of channels in the input image (for grayscale images use 1 and for RGB color images use 3)\n",
    "- **out_channels (int)** — This is the number of channels produced by the convolution. We use 32 channels or 32 filters. **NOTE** 32 will be the number of **in_channels** in the next network layer.\n",
    "- **kernel_size (int or tuple)** — This is the size of the convolving kernel. We use 3 here, which gives a kernel size of 3 x 3.\n",
    "- **stride (int or tuple, optional)** — Stride of the convolution. (Default: 1)\n",
    "- **padding (int or tuple, optional)** — Zero-padding added to both sides of the input (Default: 0). We use a padding = 1.\n",
    "\n",
    "### **The Max Pool Layer**\n",
    "\n",
    "- Each pooling layer i.e., nn.MaxPool2d(2, 2) halves both the height and the width of the image, so by using 2 pooling layers, the height and width are 1/4 of the original sizes.\n",
    "\n",
    "![](https://github.com/rajeevratan84/ModernComputerVision/raw/main/CleanShot%202020-11-29%20at%204.21.04%402x.png)"
   ]
  },
  {
   "cell_type": "code",
   "execution_count": 12,
   "metadata": {},
   "outputs": [
    {
     "data": {
      "text/plain": [
       "Net(\n",
       "  (conv1): Conv2d(1, 32, kernel_size=(3, 3), stride=(1, 1))\n",
       "  (conv2): Conv2d(32, 64, kernel_size=(3, 3), stride=(1, 1))\n",
       "  (pool): MaxPool2d(kernel_size=2, stride=2, padding=0, dilation=1, ceil_mode=False)\n",
       "  (fc1): Linear(in_features=9216, out_features=128, bias=True)\n",
       "  (fc2): Linear(in_features=128, out_features=10, bias=True)\n",
       ")"
      ]
     },
     "execution_count": 12,
     "metadata": {},
     "output_type": "execute_result"
    }
   ],
   "source": [
    "import torch.nn as nn\n",
    "import torch.nn.functional as F #\n",
    "\n",
    "# Create our Model using a Python Class\n",
    "class Net(nn.Module):\n",
    "    def __init__(self):\n",
    "        # super is a subclass of the nn.Module and inherits all its methods\n",
    "        super(Net, self).__init__()\n",
    "\n",
    "        # We define our layer objects here\n",
    "        # Our first CNN Layer using 32 Fitlers of 3x3 size, with stride of 1 & padding of 0\n",
    "        self.conv1 = nn.Conv2d(1, 32, 3)\n",
    "        # Our second CNN Layer using 64 Fitlers of 3x3 size, with stride of 1 & padding of 0\n",
    "        self.conv2 = nn.Conv2d(32, 64, 3)\n",
    "        # Our Max Pool Layer 2 x 2 kernel of stride 2\n",
    "        self.pool = nn.MaxPool2d(2, 2)\n",
    "        # Our first Fully Connected Layer (called Linear), takes the output of our Max Pool\n",
    "        # which is 12 x 12 x 64 and connects it to a set of 128 nodes\n",
    "        self.fc1 = nn.Linear(64 * 12 * 12, 128)\n",
    "        # Our second Fully Connected Layer, connects the 128 nodes to 10 output nodes (our classes)\n",
    "        self.fc2 = nn.Linear(128, 10)\n",
    "\n",
    "    def forward(self, x):\n",
    "        # here we define our forward propogation sequence \n",
    "        # Remember it's Conv1 - Relu - Conv2 - Relu - Max Pool - Flatten - FC1 - FC2\n",
    "        x = F.relu(self.conv1(x))\n",
    "        x = self.pool(F.relu(self.conv2(x)))\n",
    "        x = x.view(-1, 64 * 12 * 12) # Flatten\n",
    "        x = F.relu(self.fc1(x))\n",
    "        x = self.fc2(x)\n",
    "        return x\n",
    "\n",
    "# Create an instance of the model and move it (memory and operations) to the CUDA device\n",
    "net = Net()\n",
    "net.to(device)"
   ]
  },
  {
   "cell_type": "code",
   "execution_count": 13,
   "metadata": {},
   "outputs": [
    {
     "data": {
      "text/plain": [
       "Net(\n",
       "  (conv1): Conv2d(1, 32, kernel_size=(3, 3), stride=(1, 1))\n",
       "  (conv2): Conv2d(32, 64, kernel_size=(3, 3), stride=(1, 1))\n",
       "  (pool): MaxPool2d(kernel_size=2, stride=2, padding=0, dilation=1, ceil_mode=False)\n",
       "  (fc1): Linear(in_features=9216, out_features=128, bias=True)\n",
       "  (fc2): Linear(in_features=128, out_features=10, bias=True)\n",
       ")"
      ]
     },
     "execution_count": 13,
     "metadata": {},
     "output_type": "execute_result"
    }
   ],
   "source": [
    "import torch.nn as nn\n",
    "import torch.nn.functional as F\n",
    "\n",
    "class Net(nn.Module):\n",
    "    def __init__(self):\n",
    "        super(Net, self).__init__()\n",
    "        self.conv1 = nn.Conv2d(1, 32, 3)\n",
    "        self.conv2 = nn.Conv2d(32, 64, 3)\n",
    "        self.pool = nn.MaxPool2d(2, 2)\n",
    "        self.fc1 = nn.Linear(64 * 12 * 12, 128)\n",
    "        self.fc2 = nn.Linear(128, 10)\n",
    "\n",
    "    def forward(self, x):\n",
    "        x = F.relu(self.conv1(x))\n",
    "        x = self.pool(F.relu(self.conv2(x)))\n",
    "        x = x.view(-1, 64 * 12 * 12)\n",
    "        x = F.relu(self.fc1(x))\n",
    "        x = self.fc2(x)\n",
    "        return x\n",
    "\n",
    "net = Net()\n",
    "net.to(device)"
   ]
  },
  {
   "cell_type": "code",
   "execution_count": 14,
   "metadata": {},
   "outputs": [
    {
     "name": "stdout",
     "output_type": "stream",
     "text": [
      "Net(\n",
      "  (conv1): Conv2d(1, 32, kernel_size=(3, 3), stride=(1, 1))\n",
      "  (conv2): Conv2d(32, 64, kernel_size=(3, 3), stride=(1, 1))\n",
      "  (pool): MaxPool2d(kernel_size=2, stride=2, padding=0, dilation=1, ceil_mode=False)\n",
      "  (fc1): Linear(in_features=9216, out_features=128, bias=True)\n",
      "  (fc2): Linear(in_features=128, out_features=10, bias=True)\n",
      ")\n"
     ]
    }
   ],
   "source": [
    "print(net)"
   ]
  },
  {
   "cell_type": "markdown",
   "metadata": {},
   "source": [
    "### **7. Defining a Loss Function and Optimizer**\n",
    "\n",
    "We need to define what type of loss we'll be using and what method will be using to update the gradients.\n",
    "1. We use Cross Entropy Loss as it is a multi-class problem\n",
    "2. We use Stochastic Gradient Descent (SGD) - we also specify a learn rate (LR) of 0.001 and momentum 0.9"
   ]
  },
  {
   "cell_type": "code",
   "execution_count": 15,
   "metadata": {},
   "outputs": [],
   "source": [
    "# We import our optimizer function\n",
    "import torch.optim as optim\n",
    "\n",
    "# We use Cross Entropy Loss as our loss function\n",
    "criterion = nn.CrossEntropyLoss()\n",
    "\n",
    "# For our gradient descent algorthim or Optimizer\n",
    "# We use Stochastic Gradient Descent (SGD) with a learning rate of 0.001\n",
    "# We set the momentum to be 0.9\n",
    "optimizer = optim.SGD(net.parameters(), lr=0.001, momentum=0.9)"
   ]
  },
  {
   "cell_type": "markdown",
   "metadata": {},
   "source": [
    "### **8. Training Our Model**\n",
    "\n",
    "In PyTorch we use the building block functions to execute the training algorithm that we should be somewhat familar with by now.\n",
    "\n",
    "![](https://github.com/rajeevratan84/ModernComputerVision/raw/main/CleanShot%202020-11-29%20at%207.04.32%402x.png)"
   ]
  },
  {
   "cell_type": "code",
   "execution_count": 16,
   "metadata": {},
   "outputs": [
    {
     "name": "stdout",
     "output_type": "stream",
     "text": [
      "Starting Epoch: 1...\n",
      "Epoch: 1, Mini-Batches Completed: 50, Loss: 2.272, Test Accuracy = 36.580%\n",
      "Epoch: 1, Mini-Batches Completed: 100, Loss: 2.144, Test Accuracy = 67.930%\n",
      "Epoch: 1, Mini-Batches Completed: 150, Loss: 1.792, Test Accuracy = 69.700%\n",
      "Epoch: 1, Mini-Batches Completed: 200, Loss: 1.107, Test Accuracy = 81.060%\n",
      "Epoch: 1, Mini-Batches Completed: 250, Loss: 0.657, Test Accuracy = 85.860%\n",
      "Epoch: 1, Mini-Batches Completed: 300, Loss: 0.486, Test Accuracy = 87.040%\n",
      "Epoch: 1, Mini-Batches Completed: 350, Loss: 0.448, Test Accuracy = 88.790%\n",
      "Epoch: 1, Mini-Batches Completed: 400, Loss: 0.414, Test Accuracy = 89.290%\n",
      "Epoch: 1, Mini-Batches Completed: 450, Loss: 0.368, Test Accuracy = 90.090%\n",
      "Starting Epoch: 2...\n",
      "Epoch: 2, Mini-Batches Completed: 50, Loss: 0.366, Test Accuracy = 90.340%\n",
      "Epoch: 2, Mini-Batches Completed: 100, Loss: 0.327, Test Accuracy = 90.340%\n",
      "Epoch: 2, Mini-Batches Completed: 150, Loss: 0.338, Test Accuracy = 90.780%\n",
      "Epoch: 2, Mini-Batches Completed: 200, Loss: 0.331, Test Accuracy = 91.340%\n",
      "Epoch: 2, Mini-Batches Completed: 250, Loss: 0.321, Test Accuracy = 90.300%\n",
      "Epoch: 2, Mini-Batches Completed: 300, Loss: 0.324, Test Accuracy = 91.580%\n",
      "Epoch: 2, Mini-Batches Completed: 350, Loss: 0.309, Test Accuracy = 91.730%\n",
      "Epoch: 2, Mini-Batches Completed: 400, Loss: 0.283, Test Accuracy = 91.980%\n",
      "Epoch: 2, Mini-Batches Completed: 450, Loss: 0.279, Test Accuracy = 91.920%\n",
      "Starting Epoch: 3...\n",
      "Epoch: 3, Mini-Batches Completed: 50, Loss: 0.273, Test Accuracy = 92.760%\n",
      "Epoch: 3, Mini-Batches Completed: 100, Loss: 0.264, Test Accuracy = 92.620%\n",
      "Epoch: 3, Mini-Batches Completed: 150, Loss: 0.255, Test Accuracy = 92.950%\n",
      "Epoch: 3, Mini-Batches Completed: 200, Loss: 0.256, Test Accuracy = 92.890%\n",
      "Epoch: 3, Mini-Batches Completed: 250, Loss: 0.266, Test Accuracy = 93.150%\n",
      "Epoch: 3, Mini-Batches Completed: 300, Loss: 0.263, Test Accuracy = 93.440%\n",
      "Epoch: 3, Mini-Batches Completed: 350, Loss: 0.238, Test Accuracy = 93.200%\n",
      "Epoch: 3, Mini-Batches Completed: 400, Loss: 0.231, Test Accuracy = 93.890%\n",
      "Epoch: 3, Mini-Batches Completed: 450, Loss: 0.227, Test Accuracy = 94.050%\n",
      "Starting Epoch: 4...\n",
      "Epoch: 4, Mini-Batches Completed: 50, Loss: 0.213, Test Accuracy = 94.000%\n",
      "Epoch: 4, Mini-Batches Completed: 100, Loss: 0.212, Test Accuracy = 94.150%\n",
      "Epoch: 4, Mini-Batches Completed: 150, Loss: 0.227, Test Accuracy = 94.520%\n",
      "Epoch: 4, Mini-Batches Completed: 200, Loss: 0.223, Test Accuracy = 93.940%\n",
      "Epoch: 4, Mini-Batches Completed: 250, Loss: 0.194, Test Accuracy = 94.660%\n",
      "Epoch: 4, Mini-Batches Completed: 300, Loss: 0.190, Test Accuracy = 94.730%\n",
      "Epoch: 4, Mini-Batches Completed: 350, Loss: 0.189, Test Accuracy = 94.590%\n",
      "Epoch: 4, Mini-Batches Completed: 400, Loss: 0.181, Test Accuracy = 94.880%\n",
      "Epoch: 4, Mini-Batches Completed: 450, Loss: 0.168, Test Accuracy = 95.250%\n",
      "Starting Epoch: 5...\n",
      "Epoch: 5, Mini-Batches Completed: 50, Loss: 0.179, Test Accuracy = 95.260%\n",
      "Epoch: 5, Mini-Batches Completed: 100, Loss: 0.162, Test Accuracy = 95.240%\n",
      "Epoch: 5, Mini-Batches Completed: 150, Loss: 0.177, Test Accuracy = 95.200%\n",
      "Epoch: 5, Mini-Batches Completed: 200, Loss: 0.160, Test Accuracy = 95.140%\n",
      "Epoch: 5, Mini-Batches Completed: 250, Loss: 0.165, Test Accuracy = 95.530%\n",
      "Epoch: 5, Mini-Batches Completed: 300, Loss: 0.169, Test Accuracy = 95.940%\n",
      "Epoch: 5, Mini-Batches Completed: 350, Loss: 0.149, Test Accuracy = 95.950%\n",
      "Epoch: 5, Mini-Batches Completed: 400, Loss: 0.146, Test Accuracy = 96.090%\n",
      "Epoch: 5, Mini-Batches Completed: 450, Loss: 0.154, Test Accuracy = 96.080%\n",
      "Starting Epoch: 6...\n",
      "Epoch: 6, Mini-Batches Completed: 50, Loss: 0.141, Test Accuracy = 96.270%\n",
      "Epoch: 6, Mini-Batches Completed: 100, Loss: 0.140, Test Accuracy = 96.290%\n",
      "Epoch: 6, Mini-Batches Completed: 150, Loss: 0.129, Test Accuracy = 96.330%\n",
      "Epoch: 6, Mini-Batches Completed: 200, Loss: 0.141, Test Accuracy = 96.430%\n",
      "Epoch: 6, Mini-Batches Completed: 250, Loss: 0.140, Test Accuracy = 96.440%\n",
      "Epoch: 6, Mini-Batches Completed: 300, Loss: 0.126, Test Accuracy = 96.530%\n",
      "Epoch: 6, Mini-Batches Completed: 350, Loss: 0.123, Test Accuracy = 96.370%\n",
      "Epoch: 6, Mini-Batches Completed: 400, Loss: 0.128, Test Accuracy = 96.660%\n",
      "Epoch: 6, Mini-Batches Completed: 450, Loss: 0.122, Test Accuracy = 96.640%\n",
      "Starting Epoch: 7...\n",
      "Epoch: 7, Mini-Batches Completed: 50, Loss: 0.125, Test Accuracy = 96.590%\n",
      "Epoch: 7, Mini-Batches Completed: 100, Loss: 0.111, Test Accuracy = 96.670%\n",
      "Epoch: 7, Mini-Batches Completed: 150, Loss: 0.125, Test Accuracy = 96.700%\n",
      "Epoch: 7, Mini-Batches Completed: 200, Loss: 0.096, Test Accuracy = 96.890%\n",
      "Epoch: 7, Mini-Batches Completed: 250, Loss: 0.112, Test Accuracy = 96.920%\n",
      "Epoch: 7, Mini-Batches Completed: 300, Loss: 0.125, Test Accuracy = 96.880%\n",
      "Epoch: 7, Mini-Batches Completed: 350, Loss: 0.112, Test Accuracy = 96.360%\n",
      "Epoch: 7, Mini-Batches Completed: 400, Loss: 0.105, Test Accuracy = 96.980%\n",
      "Epoch: 7, Mini-Batches Completed: 450, Loss: 0.099, Test Accuracy = 97.060%\n",
      "Starting Epoch: 8...\n",
      "Epoch: 8, Mini-Batches Completed: 50, Loss: 0.101, Test Accuracy = 96.980%\n",
      "Epoch: 8, Mini-Batches Completed: 100, Loss: 0.101, Test Accuracy = 97.220%\n",
      "Epoch: 8, Mini-Batches Completed: 150, Loss: 0.107, Test Accuracy = 97.190%\n",
      "Epoch: 8, Mini-Batches Completed: 200, Loss: 0.095, Test Accuracy = 97.260%\n",
      "Epoch: 8, Mini-Batches Completed: 250, Loss: 0.088, Test Accuracy = 97.260%\n",
      "Epoch: 8, Mini-Batches Completed: 300, Loss: 0.099, Test Accuracy = 97.350%\n",
      "Epoch: 8, Mini-Batches Completed: 350, Loss: 0.087, Test Accuracy = 97.260%\n",
      "Epoch: 8, Mini-Batches Completed: 400, Loss: 0.093, Test Accuracy = 97.130%\n",
      "Epoch: 8, Mini-Batches Completed: 450, Loss: 0.090, Test Accuracy = 97.370%\n",
      "Starting Epoch: 9...\n",
      "Epoch: 9, Mini-Batches Completed: 50, Loss: 0.103, Test Accuracy = 97.100%\n",
      "Epoch: 9, Mini-Batches Completed: 100, Loss: 0.083, Test Accuracy = 97.560%\n",
      "Epoch: 9, Mini-Batches Completed: 150, Loss: 0.089, Test Accuracy = 97.460%\n",
      "Epoch: 9, Mini-Batches Completed: 200, Loss: 0.085, Test Accuracy = 97.570%\n",
      "Epoch: 9, Mini-Batches Completed: 250, Loss: 0.082, Test Accuracy = 97.360%\n",
      "Epoch: 9, Mini-Batches Completed: 300, Loss: 0.079, Test Accuracy = 97.490%\n",
      "Epoch: 9, Mini-Batches Completed: 350, Loss: 0.071, Test Accuracy = 97.500%\n",
      "Epoch: 9, Mini-Batches Completed: 400, Loss: 0.083, Test Accuracy = 97.610%\n",
      "Epoch: 9, Mini-Batches Completed: 450, Loss: 0.083, Test Accuracy = 97.570%\n",
      "Starting Epoch: 10...\n",
      "Epoch: 10, Mini-Batches Completed: 50, Loss: 0.069, Test Accuracy = 97.550%\n",
      "Epoch: 10, Mini-Batches Completed: 100, Loss: 0.073, Test Accuracy = 97.670%\n",
      "Epoch: 10, Mini-Batches Completed: 150, Loss: 0.072, Test Accuracy = 97.620%\n",
      "Epoch: 10, Mini-Batches Completed: 200, Loss: 0.076, Test Accuracy = 97.820%\n",
      "Epoch: 10, Mini-Batches Completed: 250, Loss: 0.080, Test Accuracy = 97.730%\n",
      "Epoch: 10, Mini-Batches Completed: 300, Loss: 0.072, Test Accuracy = 97.640%\n",
      "Epoch: 10, Mini-Batches Completed: 350, Loss: 0.081, Test Accuracy = 97.840%\n",
      "Epoch: 10, Mini-Batches Completed: 400, Loss: 0.072, Test Accuracy = 97.770%\n",
      "Epoch: 10, Mini-Batches Completed: 450, Loss: 0.069, Test Accuracy = 97.720%\n",
      "Finished Training\n"
     ]
    }
   ],
   "source": [
    "# We loop over the traing dataset multiple times (each time is called an epoch)\n",
    "epochs = 10\n",
    "\n",
    "# Create some empty arrays to store logs \n",
    "epoch_log = []\n",
    "loss_log = []\n",
    "accuracy_log = []\n",
    "\n",
    "# Iterate for a specified number of epochs\n",
    "for epoch in range(epochs):  \n",
    "    print(f'Starting Epoch: {epoch+1}...')\n",
    "\n",
    "    # We keep adding or accumulating our loss after each mini-batch in running_loss\n",
    "    running_loss = 0.0\n",
    "\n",
    "    # We iterate through our trainloader iterator\n",
    "    # Each cycle is a minibatch\n",
    "    for i, data in enumerate(trainloader, 0):\n",
    "        # get the inputs; data is a list of [inputs, labels]\n",
    "        inputs, labels = data\n",
    "\n",
    "        # Move our data to GPU\n",
    "        inputs = inputs.to(device)\n",
    "        labels = labels.to(device)\n",
    "\n",
    "        # Clear the gradients before training by setting to zero\n",
    "        # Required for a fresh start\n",
    "        optimizer.zero_grad()\n",
    "\n",
    "        # Forward -> backprop + optimize\n",
    "        outputs = net(inputs) # Forward Propagation \n",
    "        loss = criterion(outputs, labels) # Get Loss (quantify the difference between the results and predictions)\n",
    "        loss.backward() # Back propagate to obtain the new gradients for all nodes\n",
    "        optimizer.step() # Update the gradients/weights\n",
    "\n",
    "        # Print Training statistics - Epoch/Iterations/Loss/Accuracy\n",
    "        running_loss += loss.item()\n",
    "        if i % 50 == 49:    # show our loss every 50 mini-batches\n",
    "            correct = 0 # Initialize our variable to hold the count for the correct predictions\n",
    "            total = 0 # Initialize our variable to hold the count of the number of labels iterated\n",
    "\n",
    "            # We don't need gradients for validation, so wrap in \n",
    "            # no_grad to save memory\n",
    "            with torch.no_grad():\n",
    "                # Iterate through the testloader iterator\n",
    "                for data in testloader:\n",
    "                    images, labels = data\n",
    "                    # Move our data to GPU\n",
    "                    images = images.to(device)\n",
    "                    labels = labels.to(device)\n",
    "                    \n",
    "                    # Foward propagate our test data batch through our model\n",
    "                    outputs = net(images)\n",
    "\n",
    "                     # Get predictions from the maximum value of the predicted output tensor\n",
    "                     # we set dim = 1 as it specifies the number of dimensions to reduce\n",
    "                    _, predicted = torch.max(outputs.data, dim = 1)\n",
    "                    # Keep adding the label size or length to the total variable\n",
    "                    total += labels.size(0)\n",
    "                    # Keep a running total of the number of predictions predicted correctly\n",
    "                    correct += (predicted == labels).sum().item()\n",
    "\n",
    "                accuracy = 100 * correct / total\n",
    "                epoch_num = epoch + 1\n",
    "                actual_loss = running_loss / 50\n",
    "                print(f'Epoch: {epoch_num}, Mini-Batches Completed: {(i+1)}, Loss: {actual_loss:.3f}, Test Accuracy = {accuracy:.3f}%')\n",
    "                running_loss = 0.0\n",
    "\n",
    "    # Store training stats after each epoch\n",
    "    epoch_log.append(epoch_num)\n",
    "    loss_log.append(actual_loss)\n",
    "    accuracy_log.append(accuracy)\n",
    "\n",
    "print('Finished Training')"
   ]
  },
  {
   "cell_type": "code",
   "execution_count": null,
   "metadata": {},
   "outputs": [],
   "source": []
  },
  {
   "cell_type": "markdown",
   "metadata": {},
   "source": [
    "## **9. Saving Our Model**\n",
    "\n",
    "We use the ```torch.save()``` function to save our model.\n",
    "\n",
    "```net.state_dict()``` saves our model weights in a dictionay format."
   ]
  },
  {
   "cell_type": "code",
   "execution_count": 17,
   "metadata": {},
   "outputs": [],
   "source": [
    "PATH = './mnist_cnn_net.pth'\n",
    "torch.save(net.state_dict(), PATH)"
   ]
  },
  {
   "cell_type": "code",
   "execution_count": 18,
   "metadata": {},
   "outputs": [
    {
     "ename": "AttributeError",
     "evalue": "'_SingleProcessDataLoaderIter' object has no attribute 'next'",
     "output_type": "error",
     "traceback": [
      "\u001b[1;31m---------------------------------------------------------------------------\u001b[0m",
      "\u001b[1;31mAttributeError\u001b[0m                            Traceback (most recent call last)",
      "Cell \u001b[1;32mIn[18], line 3\u001b[0m\n\u001b[0;32m      1\u001b[0m \u001b[38;5;66;03m# Loading one mini-batch\u001b[39;00m\n\u001b[0;32m      2\u001b[0m dataiter \u001b[38;5;241m=\u001b[39m \u001b[38;5;28miter\u001b[39m(testloader)\n\u001b[1;32m----> 3\u001b[0m images, labels \u001b[38;5;241m=\u001b[39m \u001b[43mdataiter\u001b[49m\u001b[38;5;241;43m.\u001b[39;49m\u001b[43mnext\u001b[49m()\n\u001b[0;32m      5\u001b[0m \u001b[38;5;66;03m# Display images using torchvision's utils.make_grid()\u001b[39;00m\n\u001b[0;32m      6\u001b[0m imshow(torchvision\u001b[38;5;241m.\u001b[39mutils\u001b[38;5;241m.\u001b[39mmake_grid(images))\n",
      "\u001b[1;31mAttributeError\u001b[0m: '_SingleProcessDataLoaderIter' object has no attribute 'next'"
     ]
    }
   ],
   "source": [
    "# Loading one mini-batch\n",
    "dataiter = iter(testloader)\n",
    "images, labels = dataiter.next()\n",
    "\n",
    "# Display images using torchvision's utils.make_grid()\n",
    "imshow(torchvision.utils.make_grid(images))\n",
    "print('GroundTruth: ',''.join('%1s' % labels[j].numpy() for j in range(128)))"
   ]
  },
  {
   "cell_type": "code",
   "execution_count": null,
   "metadata": {},
   "outputs": [],
   "source": [
    "# Create an instance of the model and move it (memory and operations) to the CUDA device.\n",
    "net = Net()\n",
    "net.to(device)\n",
    "\n",
    "# Load weights from the specified path\n",
    "net.load_state_dict(torch.load(PATH))"
   ]
  },
  {
   "cell_type": "code",
   "execution_count": null,
   "metadata": {},
   "outputs": [],
   "source": [
    "## Let's forward propagate one mini-batch and get the predicted outputs\n",
    "# We use the Python function iter to return an iterator for our train_loader object\n",
    "test_iter = iter(testloader)\n",
    "\n",
    "# We use next to get the first batch of data from our iterator\n",
    "images, labels = test_iter.next()\n",
    "\n",
    "# Move our data to GPU\n",
    "images = images.to(device)\n",
    "labels = labels.to(device)\n",
    "\n",
    "outputs = net(images)\n",
    "\n",
    "# Get the class predictions using torch.max\n",
    "_, predicted = torch.max(outputs, 1)\n",
    "\n",
    "# Print our 128 predictions\n",
    "print('Predicted: ', ''.join('%1s' % predicted[j].cpu().numpy() for j in range(128)))"
   ]
  },
  {
   "cell_type": "code",
   "execution_count": null,
   "metadata": {},
   "outputs": [],
   "source": [
    "correct = 0 \n",
    "total = 0\n",
    "\n",
    "with torch.no_grad():\n",
    "    for data in testloader:\n",
    "        images, labels = data\n",
    "        # Move our data to GPU\n",
    "        images = images.to(device)\n",
    "        labels = labels.to(device)\n",
    "        outputs = net(images)\n",
    "        _, predicted = torch.max(outputs.data, 1)\n",
    "        total += labels.size(0)\n",
    "        correct += (predicted == labels).sum().item()\n",
    "\n",
    "accuracy = 100 * correct / total\n",
    "print(f'Accuracy of the network on the 10000 test images: {accuracy:.3}%')"
   ]
  },
  {
   "cell_type": "markdown",
   "metadata": {},
   "source": [
    "## **10. Plotting our Training Logs**\n",
    "\n",
    "Remember we created some lists to log our training stats?\n",
    "\n",
    "```\n",
    "# Create some empty arrays to store logs \n",
    "epoch_log = []\n",
    "loss_log = []\n",
    "accuracy_log = []\n",
    "```\n",
    "\n",
    "**Let's now plot those logs**"
   ]
  },
  {
   "cell_type": "code",
   "execution_count": null,
   "metadata": {},
   "outputs": [],
   "source": [
    "# To create a plot with secondary y-axis we need to create a subplot\n",
    "fig, ax1 = plt.subplots()\n",
    "\n",
    "# Set title and x-axis label rotation\n",
    "plt.title(\"Accuracy & Loss vs Epoch\")\n",
    "plt.xticks(rotation=45)\n",
    "\n",
    "# We use twinx to create a plot a secondary y axis\n",
    "ax2 = ax1.twinx()\n",
    "\n",
    "# Create plot for loss_log and accuracy_log\n",
    "ax1.plot(epoch_log, loss_log, 'g-')\n",
    "ax2.plot(epoch_log, accuracy_log, 'b-')\n",
    "\n",
    "# Set labels\n",
    "ax1.set_xlabel('Epochs')\n",
    "ax1.set_ylabel('Loss', color='g')\n",
    "ax2.set_ylabel('Test Accuracy', color='b')\n",
    "\n",
    "plt.show()"
   ]
  },
  {
   "cell_type": "code",
   "execution_count": null,
   "metadata": {},
   "outputs": [],
   "source": [
    "epoch_log = list(range(1,11))\n",
    "epoch_log"
   ]
  },
  {
   "cell_type": "code",
   "execution_count": null,
   "metadata": {},
   "outputs": [],
   "source": [
    "list(range(1,10))"
   ]
  },
  {
   "cell_type": "code",
   "execution_count": null,
   "metadata": {},
   "outputs": [],
   "source": [
    "class_correct = list(0. for i in range(10))\n",
    "class_total = list(0. for i in range(10))\n",
    "\n",
    "# We don't need gradients for validation, so wrap in \n",
    "# no_grad to save memory\n",
    "with torch.no_grad():\n",
    "    for data in testloader:\n",
    "        images, labels = data\n",
    "\n",
    "        # Move our data to GPU\n",
    "        images = images.to(device)\n",
    "        labels = labels.to(device)\n",
    "\n",
    "        # Get our outputs\n",
    "        outputs = net(images)\n",
    "\n",
    "        # use torch.max() to get the predicted class for the first dim of our batch\n",
    "        # note this is just the first 16 data points/images of our batch of 128 images \n",
    "        _, predicted = torch.max(outputs, 1)\n",
    "        c = (predicted == labels).squeeze()\n",
    "        \n",
    "        for i in range(15):\n",
    "            label = labels[i]\n",
    "            class_correct[label] += c[i].item()\n",
    "            class_total[label] += 1\n",
    "\n",
    "\n",
    "for i in range(10):\n",
    "    class_accuracy = 100 * class_correct[i] / class_total[i]\n",
    "    print(f'Accuracy of {i} : {class_accuracy:.3f}%')"
   ]
  },
  {
   "cell_type": "code",
   "execution_count": null,
   "metadata": {},
   "outputs": [],
   "source": [
    "net.eval()\n",
    "\n",
    "# We don't need gradients for validation, so wrap in \n",
    "# no_grad to save memory\n",
    "with torch.no_grad():\n",
    "    for data in testloader:\n",
    "        images, labels = data\n",
    "\n",
    "        # Move our data to GPU\n",
    "        images = images.to(device)\n",
    "        labels = labels.to(device)\n",
    "\n",
    "        # Get our outputs\n",
    "        outputs = net(images)\n",
    "\n",
    "        # use torch.argmax() to get the predictions, argmax is used for long_tensors\n",
    "        predictions = torch.argmax(outputs, dim=1)\n",
    "\n",
    "        # For test data in each batch we identify when predictions did not match the label\n",
    "        # then we print out the actual ground truth \n",
    "        for i in range(data[0].shape[0]):\n",
    "            pred = predictions[i].item()\n",
    "            label = labels[i]\n",
    "            if(label != pred):\n",
    "                print(f'Actual Label: {pred}, Predicted Label: {label}')       \n",
    "                img = np.reshape(images[i].cpu().numpy(),[28,28])\n",
    "                imgshow(\"\", np.uint8(img), size = 1)"
   ]
  },
  {
   "cell_type": "code",
   "execution_count": null,
   "metadata": {},
   "outputs": [],
   "source": [
    "nb_classes = 10\n",
    "\n",
    "confusion_matrix = torch.zeros(nb_classes, nb_classes)\n",
    "\n",
    "with torch.no_grad():\n",
    "    for i, (inputs, classes) in enumerate(testloader):\n",
    "        inputs = inputs.to(device)\n",
    "        classes = classes.to(device)\n",
    "        outputs = net(inputs)\n",
    "        _, preds = torch.max(outputs, 1)\n",
    "        for t, p in zip(classes.view(-1), preds.view(-1)):\n",
    "                confusion_matrix[t.long(), p.long()] += 1\n",
    "\n",
    "print(confusion_matrix)"
   ]
  },
  {
   "cell_type": "code",
   "execution_count": null,
   "metadata": {},
   "outputs": [],
   "source": [
    "print(confusion_matrix.diag()/confusion_matrix.sum(1))"
   ]
  },
  {
   "cell_type": "code",
   "execution_count": null,
   "metadata": {},
   "outputs": [],
   "source": [
    "from sklearn.metrics import confusion_matrix\n",
    "\n",
    "nb_classes = 10\n",
    "\n",
    "# Initialize the prediction and label lists(tensors)\n",
    "predlist=torch.zeros(0,dtype=torch.long, device='cpu')\n",
    "lbllist=torch.zeros(0,dtype=torch.long, device='cpu')\n",
    "\n",
    "with torch.no_grad():\n",
    "    for i, (inputs, classes) in enumerate(testloader):\n",
    "        inputs = inputs.to(device)\n",
    "        classes = classes.to(device)\n",
    "        outputs = net(inputs)\n",
    "        _, preds = torch.max(outputs, 1)\n",
    "\n",
    "        # Append batch prediction results\n",
    "        predlist=torch.cat([predlist,preds.view(-1).cpu()])\n",
    "        lbllist=torch.cat([lbllist,classes.view(-1).cpu()])\n",
    "\n",
    "# Confusion matrix\n",
    "conf_mat=confusion_matrix(lbllist.numpy(), predlist.numpy())\n",
    "print(conf_mat)\n",
    "\n",
    "# Per-class accuracy\n",
    "class_accuracy=100*conf_mat.diagonal()/conf_mat.sum(1)\n",
    "print(class_accuracy)"
   ]
  },
  {
   "cell_type": "code",
   "execution_count": null,
   "metadata": {},
   "outputs": [],
   "source": [
    "from sklearn.metrics import confusion_matrix\n",
    "\n",
    "nb_classes = 9\n",
    "\n",
    "# Initialize the prediction and label lists(tensors)\n",
    "predlist=torch.zeros(0,dtype=torch.long, device='cpu')\n",
    "lbllist=torch.zeros(0,dtype=torch.long, device='cpu')\n",
    "\n",
    "with torch.no_grad():\n",
    "    for i, (inputs, classes) in enumerate(dataloaders['val']):\n",
    "        inputs = inputs.to(device)\n",
    "        classes = classes.to(device)\n",
    "        outputs = model_ft(inputs)\n",
    "        _, preds = torch.max(outputs, 1)\n",
    "\n",
    "        # Append batch prediction results\n",
    "        predlist=torch.cat([predlist,preds.view(-1).cpu()])\n",
    "        lbllist=torch.cat([lbllist,classes.view(-1).cpu()])\n",
    "\n",
    "# Confusion matrix\n",
    "conf_mat=confusion_matrix(lbllist.numpy(), predlist.numpy())\n",
    "print(conf_mat)\n",
    "\n",
    "# Per-class accuracy\n",
    "class_accuracy=100*conf_mat.diagonal()/conf_mat.sum(1)\n",
    "print(class_accuracy)"
   ]
  },
  {
   "cell_type": "code",
   "execution_count": null,
   "metadata": {},
   "outputs": [],
   "source": []
  }
 ],
 "metadata": {
  "kernelspec": {
   "display_name": "base",
   "language": "python",
   "name": "python3"
  },
  "language_info": {
   "codemirror_mode": {
    "name": "ipython",
    "version": 3
   },
   "file_extension": ".py",
   "mimetype": "text/x-python",
   "name": "python",
   "nbconvert_exporter": "python",
   "pygments_lexer": "ipython3",
   "version": "3.10.13"
  }
 },
 "nbformat": 4,
 "nbformat_minor": 2
}
